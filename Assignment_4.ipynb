{
 "cells": [
  {
   "cell_type": "code",
   "execution_count": 1,
   "metadata": {},
   "outputs": [],
   "source": [
    "# Task 1:"
   ]
  },
  {
   "cell_type": "code",
   "execution_count": 2,
   "metadata": {},
   "outputs": [
    {
     "name": "stdout",
     "output_type": "stream",
     "text": [
      "Movig Average for  [3, 5, 7, 2, 8, 10, 11, 65, 72, 81, 99, 100, 150] with window size = 3\n",
      "Result:  [  5.           4.66666667   5.66666667   6.66666667   9.66666667\n",
      "  28.66666667  49.33333333  72.66666667  84.          93.33333333\n",
      " 116.33333333]\n"
     ]
    }
   ],
   "source": [
    "# 1. Given a sequence of n values x1, x2, ..., xn and a window size k>0, the k-th moving average of\n",
    "#    the given sequence is defined as follows:\n",
    "#    The moving average sequence has n-k+1 elements as shown below.\n",
    "#    The moving averages with k=4 of a ten-value sequence (n=10) is shown below\n",
    "#    i      1  2  3  4  5  6  7  8  9 10\n",
    "#    ===== == == == == == == == == == ==\n",
    "#    Input 10 20 30 40 50 60 70 80 90 100\n",
    "#    y1 25 = (10+20+30+40)/4\n",
    "#    y2 35 = (20+30+40+50)/4\n",
    "#    y3 45 = (30+40+50+60)/4\n",
    "#    y4 55 = (40+50+60+70)/4\n",
    "#    y5 65 = (50+60+70+80)/4\n",
    "#    y6 75 = (60+70+80+90)/4\n",
    "#    y7 85 = (70+80+90+100)/4\n",
    "\n",
    "#    Thus, the moving average sequence has n-k+1=10-4+1=7 values.\n",
    "\n",
    "#    Problem Statement:\n",
    "#    Write a function to find moving average in an array over a window:\n",
    "#    Test it over [3, 5, 7, 2, 8, 10, 11, 65, 72, 81, 99, 100, 150] and window of 3.\n",
    "\n",
    "import numpy as np\n",
    "\n",
    "def MovingAverage(seq, k):\n",
    "    n = len(seq)\n",
    "    npArray = np.array([])\n",
    "    for i in range(0,n-k+1):\n",
    "        npArray = np.append(npArray, sum(seq[i:i+k])/k)\n",
    "    return npArray\n",
    "    #return[sum(seq[i:i+k])/k for i in range(0,n-k+1)]\n",
    "\n",
    "array = [3, 5, 7, 2, 8, 10, 11, 65, 72, 81, 99, 100, 150]\n",
    "window = 3\n",
    "print(\"Movig Average for \", array, \"with window size =\", window)\n",
    "print(\"Result: \" , MovingAverage(array, window))"
   ]
  },
  {
   "cell_type": "code",
   "execution_count": 3,
   "metadata": {},
   "outputs": [],
   "source": [
    "# Task 2:"
   ]
  },
  {
   "cell_type": "code",
   "execution_count": 4,
   "metadata": {},
   "outputs": [
    {
     "data": {
      "text/html": [
       "<div>\n",
       "<style scoped>\n",
       "    .dataframe tbody tr th:only-of-type {\n",
       "        vertical-align: middle;\n",
       "    }\n",
       "\n",
       "    .dataframe tbody tr th {\n",
       "        vertical-align: top;\n",
       "    }\n",
       "\n",
       "    .dataframe thead th {\n",
       "        text-align: right;\n",
       "    }\n",
       "</style>\n",
       "<table border=\"1\" class=\"dataframe\">\n",
       "  <thead>\n",
       "    <tr style=\"text-align: right;\">\n",
       "      <th></th>\n",
       "      <th>X</th>\n",
       "      <th>Y</th>\n",
       "    </tr>\n",
       "  </thead>\n",
       "  <tbody>\n",
       "    <tr>\n",
       "      <th>0</th>\n",
       "      <td>7</td>\n",
       "      <td>1</td>\n",
       "    </tr>\n",
       "    <tr>\n",
       "      <th>1</th>\n",
       "      <td>2</td>\n",
       "      <td>2</td>\n",
       "    </tr>\n",
       "    <tr>\n",
       "      <th>2</th>\n",
       "      <td>0</td>\n",
       "      <td>0</td>\n",
       "    </tr>\n",
       "    <tr>\n",
       "      <th>3</th>\n",
       "      <td>3</td>\n",
       "      <td>1</td>\n",
       "    </tr>\n",
       "    <tr>\n",
       "      <th>4</th>\n",
       "      <td>4</td>\n",
       "      <td>2</td>\n",
       "    </tr>\n",
       "    <tr>\n",
       "      <th>5</th>\n",
       "      <td>2</td>\n",
       "      <td>3</td>\n",
       "    </tr>\n",
       "    <tr>\n",
       "      <th>6</th>\n",
       "      <td>5</td>\n",
       "      <td>4</td>\n",
       "    </tr>\n",
       "    <tr>\n",
       "      <th>7</th>\n",
       "      <td>0</td>\n",
       "      <td>0</td>\n",
       "    </tr>\n",
       "    <tr>\n",
       "      <th>8</th>\n",
       "      <td>3</td>\n",
       "      <td>1</td>\n",
       "    </tr>\n",
       "    <tr>\n",
       "      <th>9</th>\n",
       "      <td>4</td>\n",
       "      <td>2</td>\n",
       "    </tr>\n",
       "  </tbody>\n",
       "</table>\n",
       "</div>"
      ],
      "text/plain": [
       "   X  Y\n",
       "0  7  1\n",
       "1  2  2\n",
       "2  0  0\n",
       "3  3  1\n",
       "4  4  2\n",
       "5  2  3\n",
       "6  5  4\n",
       "7  0  0\n",
       "8  3  1\n",
       "9  4  2"
      ]
     },
     "execution_count": 4,
     "metadata": {},
     "output_type": "execute_result"
    }
   ],
   "source": [
    "# 1. How-to-count-distance-to-the-previous-zero\n",
    "#    For each value, count the difference back to the previous zero (or the start of the Series, whichever is closer)\n",
    "#    create a new column 'Y'\n",
    "#    Consider a DataFrame df where there is an integer column 'X'\n",
    "#    import pandas as pd\n",
    "#    df = pd.DataFrame({'X': [7, 2, 0, 3, 4, 2, 5, 0, 3, 4]})\n",
    "\n",
    "import numpy as np\n",
    "import pandas as pd\n",
    "\n",
    "df = pd.DataFrame({'X': [7, 2, 0, 3, 4, 2, 5, 0, 3, 4]})\n",
    "df[\"Y\"] = 0\n",
    "distance = 0;\n",
    "for index, row in df.iterrows():\n",
    "    distance = 0 if (row[\"X\"] == 0) else distance + 1\n",
    "    df[\"Y\"][index] = distance\n",
    "df"
   ]
  },
  {
   "cell_type": "code",
   "execution_count": 5,
   "metadata": {},
   "outputs": [
    {
     "data": {
      "text/plain": [
       "2015-01-01    849\n",
       "2015-01-02    395\n",
       "2015-01-05    289\n",
       "2015-01-06    703\n",
       "2015-01-07    502\n",
       "2015-01-08    930\n",
       "2015-01-09     38\n",
       "2015-01-12     92\n",
       "2015-01-13    889\n",
       "2015-01-14    146\n",
       "2015-01-15    386\n",
       "2015-01-16    226\n",
       "2015-01-19     49\n",
       "2015-01-20    856\n",
       "2015-01-21    146\n",
       "2015-01-22    653\n",
       "2015-01-23    185\n",
       "2015-01-26    817\n",
       "2015-01-27    262\n",
       "2015-01-28    457\n",
       "2015-01-29    449\n",
       "2015-01-30     93\n",
       "2015-02-02    862\n",
       "2015-02-03    545\n",
       "2015-02-04    846\n",
       "2015-02-05    273\n",
       "2015-02-06    401\n",
       "2015-02-09    357\n",
       "2015-02-10    190\n",
       "2015-02-11    218\n",
       "             ... \n",
       "2015-11-20    522\n",
       "2015-11-23    846\n",
       "2015-11-24    516\n",
       "2015-11-25    370\n",
       "2015-11-26    590\n",
       "2015-11-27    905\n",
       "2015-11-30    699\n",
       "2015-12-01    584\n",
       "2015-12-02    566\n",
       "2015-12-03    975\n",
       "2015-12-04    653\n",
       "2015-12-07     47\n",
       "2015-12-08    944\n",
       "2015-12-09    586\n",
       "2015-12-10    192\n",
       "2015-12-11    767\n",
       "2015-12-14    249\n",
       "2015-12-15    766\n",
       "2015-12-16    412\n",
       "2015-12-17    807\n",
       "2015-12-18    901\n",
       "2015-12-21    115\n",
       "2015-12-22    827\n",
       "2015-12-23    188\n",
       "2015-12-24     26\n",
       "2015-12-25    333\n",
       "2015-12-28    972\n",
       "2015-12-29    816\n",
       "2015-12-30    493\n",
       "2015-12-31    103\n",
       "Freq: B, Length: 261, dtype: int32"
      ]
     },
     "execution_count": 5,
     "metadata": {},
     "output_type": "execute_result"
    }
   ],
   "source": [
    "# 2. Create a DatetimeIndex that contains each business day of 2015 and use it to index a Series of random numbers.\n",
    "\n",
    "dti = pd.date_range('2015-01-01', '2015-12-31', freq='B')\n",
    "s = pd.Series(np.random.randint(0,1000, size=len(dti)), index=dti)\n",
    "s"
   ]
  },
  {
   "cell_type": "code",
   "execution_count": 6,
   "metadata": {},
   "outputs": [
    {
     "name": "stdout",
     "output_type": "stream",
     "text": [
      "Sum of the values in s for every Wednesday 27799\n"
     ]
    }
   ],
   "source": [
    "# 3. Find the sum of the values in s for every Wednesday\n",
    "\n",
    "print(\"Sum of the values in s for every Wednesday\", s[dti.weekday == 2].sum())"
   ]
  },
  {
   "cell_type": "code",
   "execution_count": 7,
   "metadata": {},
   "outputs": [
    {
     "data": {
      "text/plain": [
       "1     427.818182\n",
       "2     587.850000\n",
       "3     464.409091\n",
       "4     467.363636\n",
       "5     513.047619\n",
       "6     516.045455\n",
       "7     413.565217\n",
       "8     488.714286\n",
       "9     423.000000\n",
       "10    521.818182\n",
       "11    599.523810\n",
       "12    535.739130\n",
       "dtype: float64"
      ]
     },
     "execution_count": 7,
     "metadata": {},
     "output_type": "execute_result"
    }
   ],
   "source": [
    "# 4. Average For each calendar month\n",
    "\n",
    "s.groupby(dti.month).mean()"
   ]
  },
  {
   "cell_type": "code",
   "execution_count": 8,
   "metadata": {
    "scrolled": false
   },
   "outputs": [
    {
     "data": {
      "text/plain": [
       "2015-02-27    993\n",
       "2015-07-23    982\n",
       "2015-12-03    975\n",
       "Name: Value, dtype: int32"
      ]
     },
     "execution_count": 8,
     "metadata": {},
     "output_type": "execute_result"
    }
   ],
   "source": [
    "# 5. For each group of four consecutive calendar months in s, find the date on which the highest value occurred.\n",
    "\n",
    "def group4ConsecutiveMonths(row):\n",
    "    m = row.name.month\n",
    "    if (m <= 4):\n",
    "        return 1\n",
    "    elif (m >= 9):\n",
    "        return 3\n",
    "    else:\n",
    "        return 2\n",
    "\n",
    "df = s.to_frame(name=\"Value\")\n",
    "df[\"4MGroup\"] = df.apply(group4ConsecutiveMonths, axis=1)\n",
    "idx = df.groupby(['4MGroup'])['Value'].transform(max) == df['Value']\n",
    "df[idx][\"Value\"]"
   ]
  }
 ],
 "metadata": {
  "kernelspec": {
   "display_name": "Python 3",
   "language": "python",
   "name": "python3"
  },
  "language_info": {
   "codemirror_mode": {
    "name": "ipython",
    "version": 3
   },
   "file_extension": ".py",
   "mimetype": "text/x-python",
   "name": "python",
   "nbconvert_exporter": "python",
   "pygments_lexer": "ipython3",
   "version": "3.7.0"
  }
 },
 "nbformat": 4,
 "nbformat_minor": 2
}
